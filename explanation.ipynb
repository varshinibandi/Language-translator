{
 "cells": [
  {
   "cell_type": "markdown",
   "metadata": {},
   "source": [
    "<h1 style=\"text-align: center;\">Language Translator 🗣</h1>"
   ]
  },
  {
   "cell_type": "markdown",
   "metadata": {},
   "source": [
    "#### Imports"
   ]
  },
  {
   "cell_type": "code",
   "execution_count": null,
   "metadata": {
    "vscode": {
     "languageId": "plaintext"
    }
   },
   "outputs": [],
   "source": [
    "import streamlit as st\n",
    "from langchain.prompts import ChatPromptTemplate\n",
    "from langchain_core.output_parsers import StrOutputParser\n",
    "from langchain.llms import Ollama\n",
    "from gtts import gTTS\n",
    "import tempfile\n",
    "import requests"
   ]
  },
  {
   "cell_type": "markdown",
   "metadata": {},
   "source": [
    "#### Key Libraries and Modules in the Language Translator App\n",
    "\n",
    "In this project, we utilize several key libraries and modules to build the language translator app. Here’s a breakdown of each:\n",
    "\n",
    "1. **Streamlit** (`streamlit`)\n",
    "   - A Python library for building web apps interactively and easily.\n",
    "   - Used to create the user interface (UI) for the translator app, allowing for smooth interaction with users.\n",
    "\n",
    "2. **LangChain Modules**\n",
    "   - **ChatPromptTemplate**: \n",
    "     - Allows defining structured prompts for language models, ensuring a consistent input format.\n",
    "   - **StrOutputParser**: \n",
    "     - Parses the output from the language model into a clean string format, making the translated text more readable and usable.\n",
    "\n",
    "3. **Ollama** (`langchain.llms.Ollama`)\n",
    "   - A specific language model used for advanced natural language processing tasks.\n",
    "   - Generates translations without the need for an external dataset, streamlining the translation process.\n",
    "\n",
    "4. **gTTS** (`gtts`)\n",
    "   - Google Text-to-Speech library.\n",
    "   - Converts the translated text into spoken audio (MP3 format), providing an audio output for the translation.\n",
    "\n",
    "5. **tempfile**\n",
    "   - A Python library used to create temporary files.\n",
    "   - Used in this app to store and play the generated audio files for the translation.\n",
    "\n",
    "6. **requests**\n",
    "   - A Python library for handling HTTP requests.\n",
    "   - Manages communication with the Ollama model, facilitating the process of sending and receiving translation data.\n",
    "\n",
    "---\n",
    "\n",
    "#### Visualizing the Workflow\n",
    "- The app takes user input, sends it to the **Ollama** language model, parses the translation using **LangChain**, and finally reads the output with **gTTS**.\n",
    "- The **Streamlit** UI makes it easy for users to interact with the app.\n",
    "\n"
   ]
  },
  {
   "cell_type": "markdown",
   "metadata": {},
   "source": [
    "#### Initialize the Ollama Model"
   ]
  },
  {
   "cell_type": "code",
   "execution_count": null,
   "metadata": {
    "vscode": {
     "languageId": "plaintext"
    }
   },
   "outputs": [],
   "source": [
    "try:\n",
    "    model = Ollama(model=\"llama3.1:8b\")\n",
    "except requests.exceptions.ConnectionError as e:\n",
    "    st.error(f\"Error connecting to Ollama: {e}\")\n",
    "    st.stop()"
   ]
  },
  {
   "cell_type": "markdown",
   "metadata": {},
   "source": [
    "#### Why Ollama?\n",
    "\n",
    "Ollama offers several advantages that make it an ideal choice for building a language translation app:\n",
    "\n",
    "- **Pretrained and Highly Capable**:\n",
    "  - Ollama is a pretrained language model that doesn't require additional datasets or fine-tuning for basic tasks like translations.\n",
    "  - It has been designed to efficiently handle a wide range of language processing tasks.\n",
    "\n",
    "- **Flexibility**:\n",
    "  - It provides flexibility to handle multiple languages efficiently without requiring external training or custom datasets.\n",
    "\n",
    "- **Model Version**:\n",
    "  - The Ollama instance is created with a specific version: `llama3.1:8b`, ensuring that we are using a well-defined and powerful version of the model.\n",
    "\n",
    "- **Error Handling**:\n",
    "  - Ollama includes built-in error handling to check for connectivity issues.\n",
    "  - If the model isn't accessible, the app can stop gracefully to prevent any unexpected crashes or failures."
   ]
  },
  {
   "cell_type": "markdown",
   "metadata": {},
   "source": [
    "#### Prompt and Template Definition"
   ]
  },
  {
   "cell_type": "code",
   "execution_count": null,
   "metadata": {
    "vscode": {
     "languageId": "plaintext"
    }
   },
   "outputs": [],
   "source": [
    "indian_languages = [\"Hindi\", \"Bengali\", \"Telugu\", \"Marathi\", \"Tamil\", \"Gujarati\", \"Urdu\", \"Kannada\", \"Malayalam\", \"Punjabi\", \"Assamese\", \"Odia\"]\n",
    "\n",
    "generic_template = \"Translate the following into {language}:\"\n",
    "\n",
    "prompt = ChatPromptTemplate.from_messages(\n",
    "    [(\"system\", generic_template), (\"user\", \"{text}\")]\n",
    ")"
   ]
  },
  {
   "cell_type": "markdown",
   "metadata": {},
   "source": [
    "##### 1. **Indian Languages**\n",
    "- A list of supported **Indian languages** for translation.\n",
    "- These languages include a wide variety of regional languages, allowing for translation across multiple Indian languages.\n",
    "\n",
    "##### 2. **Generic Template**\n",
    "- Defines the **translation task template**.\n",
    "- `{language}` is a placeholder that can be replaced with the target language, making the template adaptable for different translations.\n",
    "\n",
    "##### 3. **Prompt Creation**\n",
    "- **ChatPromptTemplate**:\n",
    "  - Combines **system instructions** and **user input** into a structured prompt format.\n",
    "  - This ensures that the language model receives clear and organized input that it can understand for generating accurate translations."
   ]
  },
  {
   "cell_type": "markdown",
   "metadata": {},
   "source": [
    "#### Parser and Chain Setup"
   ]
  },
  {
   "cell_type": "markdown",
   "metadata": {},
   "source": [
    "parser = StrOutputParser()\n",
    "chain = prompt | model | parser"
   ]
  },
  {
   "cell_type": "markdown",
   "metadata": {},
   "source": [
    "- **Parser**: \n",
    "Converts the model's output into a clean, readable string.\n",
    "- **Chain**:\n",
    " Links the prompt, model, and parser together to streamline the translation process.\n"
   ]
  },
  {
   "cell_type": "markdown",
   "metadata": {},
   "source": [
    "#### Streamlit App Interface"
   ]
  },
  {
   "cell_type": "code",
   "execution_count": null,
   "metadata": {
    "vscode": {
     "languageId": "plaintext"
    }
   },
   "outputs": [],
   "source": [
    "st.set_page_config(page_title=\"Language Translator\", layout=\"centered\")"
   ]
  },
  {
   "cell_type": "markdown",
   "metadata": {},
   "source": [
    "- Sets the app's page title and layout for better user experience."
   ]
  },
  {
   "cell_type": "markdown",
   "metadata": {},
   "source": [
    "#### Custom Styling (CSS)"
   ]
  },
  {
   "cell_type": "code",
   "execution_count": null,
   "metadata": {
    "vscode": {
     "languageId": "plaintext"
    }
   },
   "outputs": [],
   "source": [
    "st.markdown(\"\"\"\n",
    "    <style>\n",
    "    body { background: linear-gradient(120deg, #f8ff9a, #a1ffce); }\n",
    "    .stButton>button { background-color: #FF5722; color: white; }\n",
    "    </style>\n",
    "\"\"\", unsafe_allow_html=True)"
   ]
  },
  {
   "cell_type": "markdown",
   "metadata": {},
   "source": [
    "- Adds a gradient background and styles buttons for better aesthetics.\n",
    "- Transitions and hover effects make the UI feel more interactive."
   ]
  },
  {
   "cell_type": "markdown",
   "metadata": {},
   "source": [
    "#### Input Section"
   ]
  },
  {
   "cell_type": "code",
   "execution_count": null,
   "metadata": {
    "vscode": {
     "languageId": "plaintext"
    }
   },
   "outputs": [],
   "source": [
    "input_text = st.text_input(\"Type the Word or Sentence\", \"\")\n",
    "input_language = st.selectbox(\"Select Translation Language\", indian_languages)"
   ]
  },
  {
   "cell_type": "markdown",
   "metadata": {},
   "source": [
    "- **Text Input**: Allows the user to enter the word or sentence to be translated.\n",
    "- **Language Selection**: Dropdown list (selectbox) for choosing the target language.\n"
   ]
  },
  {
   "cell_type": "markdown",
   "metadata": {},
   "source": [
    "#### Translation Button"
   ]
  },
  {
   "cell_type": "code",
   "execution_count": null,
   "metadata": {
    "vscode": {
     "languageId": "plaintext"
    }
   },
   "outputs": [],
   "source": [
    "if st.button(\"Translate\"):\n",
    "    if not input_text.strip():\n",
    "        st.error(\"Please enter a word or sentence to translate!\")\n",
    "    else:\n",
    "        with st.spinner(\"Translating... please wait!\"):\n",
    "            try:\n",
    "                translated_output = chain.invoke({\"language\": input_language, \"text\": input_text})"
   ]
  },
  {
   "cell_type": "markdown",
   "metadata": {},
   "source": [
    "- **Button**: When clicked, triggers the translation process.\n",
    "- **Validation**: Checks if the input text is empty.\n",
    "- **Spinner**: Shows a loading spinner during translation.\n",
    "- **Translation Execution**:\n",
    "   - Invokes the model using the input text and selected language.\n",
    "   - Outputs the translated sentence."
   ]
  },
  {
   "cell_type": "markdown",
   "metadata": {},
   "source": [
    "#### Display Translation"
   ]
  },
  {
   "cell_type": "code",
   "execution_count": null,
   "metadata": {
    "vscode": {
     "languageId": "plaintext"
    }
   },
   "outputs": [],
   "source": [
    "st.markdown(\n",
    "    f\"<div class='translated-text'><strong>Translated output:</strong> {translated_output}</div>\",\n",
    "    unsafe_allow_html=True\n",
    ")"
   ]
  },
  {
   "cell_type": "markdown",
   "metadata": {},
   "source": [
    "- Displays the translated text within a styled div for readability."
   ]
  },
  {
   "cell_type": "markdown",
   "metadata": {},
   "source": [
    "#### Text-to-Speech (gTTS)"
   ]
  },
  {
   "cell_type": "code",
   "execution_count": null,
   "metadata": {
    "vscode": {
     "languageId": "plaintext"
    }
   },
   "outputs": [],
   "source": [
    "tts = gTTS(text=translated_output, lang=language_map.get(input_language, \"hi\")) \n",
    "with tempfile.NamedTemporaryFile(delete=False, suffix=\".mp3\") as temp_audio:\n",
    "    tts.save(temp_audio.name)\n",
    "    st.audio(temp_audio.name, format=\"audio/mp3\")"
   ]
  },
  {
   "cell_type": "markdown",
   "metadata": {},
   "source": [
    "1. **gTTS**:\n",
    "   - Converts the translated text to speech using Google Text-to-Speech.\n",
    "   - Maps the selected language to its ISO code using language_map.\n",
    "\n",
    "2. **Temporary File**: Saves the audio as a temporary file for playback.\n",
    "\n",
    "3. **Playback**: Adds an audio player to listen to the translation.\n",
    "\n"
   ]
  },
  {
   "cell_type": "markdown",
   "metadata": {},
   "source": [
    "#### Footer"
   ]
  },
  {
   "cell_type": "code",
   "execution_count": null,
   "metadata": {
    "vscode": {
     "languageId": "plaintext"
    }
   },
   "outputs": [],
   "source": [
    "st.markdown(\"<p style='text-align: center; margin-top: 20px;'>Made with ❤️ for Indian languages using Streamlit</p>\", unsafe_allow_html=True)"
   ]
  },
  {
   "cell_type": "markdown",
   "metadata": {},
   "source": [
    "- A small footer to give credit to the project and its purpose."
   ]
  },
  {
   "cell_type": "markdown",
   "metadata": {},
   "source": [
    "### Why External Dataset Is Not Used?\n",
    "1. **Ollama's Pretrained Model**: The model is already trained on large datasets and doesn't require additional data for basic tasks like translations.\n",
    "2. **Efficient Inference**: The app relies on the capabilities of pretrained models, avoiding the need to manage and preprocess datasets manually.\n",
    "3. **Streamlined Development**: Using LangChain and Ollama reduces complexity, as translation logic is abstracted into the model.\n",
    "---\n",
    "This implementation is powerful for creating a multilingual translator while leveraging Streamlit's interactive capabilities.\n"
   ]
  },
  {
   "cell_type": "markdown",
   "metadata": {},
   "source": [
    "<h1 style=\"text-align: center;\">Thank you!</h1>"
   ]
  }
 ],
 "metadata": {
  "language_info": {
   "name": "python"
  }
 },
 "nbformat": 4,
 "nbformat_minor": 2
}
